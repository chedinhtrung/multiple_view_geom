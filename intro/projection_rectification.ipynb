{
 "cells": [
  {
   "cell_type": "markdown",
   "metadata": {},
   "source": [
    "### Projection Rectification\n",
    "#### Theory\n",
    "Projection rectification is the process of undoing distortions to shapes, caused by projecting a 3D object down to a 2D image.\n",
    "Projection rectification can be achieved in several way, the simplest way is:\n",
    "\n",
    "- Marking 4 points in the original image, preferrably of a recognizable shape, like a square\n",
    "- Specifying the new coordinate of the 4 points that we want\n",
    "- Solving for the projective transformation.\n",
    "\n",
    "Suppose points are $x_1, x_2, x_3, x_4$ and $x_1', x_2', x_3', x_4'$, then: \n",
    "$$\n",
    "Hx_i = x_i' \\to H\\cdot [x_1 \\ x_2 \\ x_3 \\ x_4] = [x_1' \\ x_2' \\ x_3' \\ x_4']\n",
    "$$\n",
    "\n",
    "Problem: $H$ is 3x3, but $[x_1 \\ x_2 \\ x_3 \\ x_4]$ and $[x_1' \\ x_2' \\ x_3' \\ x_4']$ are 3x4. This is because $x_i$ are given in projective coordinates that is defined only up to scale.\n"
   ]
  },
  {
   "cell_type": "markdown",
   "metadata": {},
   "source": [
    "\n",
    "Approach 1: Dirty fix. Flatten H as\n",
    "$$\n",
    "H\n",
    "    = \\begin{bmatrix}\n",
    "        \\vec h_1  \\\\\n",
    "        \\vec h_2 \\\\\n",
    "        \\vec h_3 \n",
    "    \\end{bmatrix}_{9 \\times 1}\n",
    "$$\n",
    "Where $h_i$ is the $i$-th row of $H$ transposed, of dimension $3 \\times 1$, and \n",
    "$x_i = (x_i, y_i, w_i)^T$\n",
    "Then the equation becomes\n",
    "$$\n",
    "H\n",
    "    = \\begin{bmatrix}\n",
    "        0^T & -w_i' x_i^T & y_i'x_i^T  \\\\\n",
    "        -w_i' x\n",
    "        \\vec h_2 \\\\\n",
    "        \\vec h_3 \n",
    "    \\end{bmatrix}_{9 \\times 1}\n",
    "$$\n"
   ]
  }
 ],
 "metadata": {
  "language_info": {
   "name": "python"
  }
 },
 "nbformat": 4,
 "nbformat_minor": 2
}
